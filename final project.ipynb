{
 "cells": [
  {
   "cell_type": "markdown",
   "metadata": {},
   "source": [
    "# Final project \n",
    "**by:\n",
    "Sumit Pandey**\n",
    "\n",
    "M0627114\n",
    "\n",
    "Master of science (Chang Gung University, Taiwan)\n"
   ]
  },
  {
   "cell_type": "code",
   "execution_count": 1,
   "metadata": {},
   "outputs": [],
   "source": [
    "import math\n",
    "import sys, time\n",
    "import numpy \n",
    "import numpy as np\n",
    "import scipy.sparse.linalg\n",
    "import matplotlib.pyplot as plt "
   ]
  },
  {
   "cell_type": "markdown",
   "metadata": {},
   "source": [
    "##  Gaussian elimination "
   ]
  },
  {
   "cell_type": "code",
   "execution_count": 2,
   "metadata": {},
   "outputs": [],
   "source": [
    "def Gauss(m):\n",
    "    # eliminate columns\n",
    "    for col in range(len(m[0])):\n",
    "        for row in range(col+1, len(m)):\n",
    "            r = [(rowValue * (-(m[row][col] / m[col][col]))) for rowValue in m[col]]\n",
    "            m[row] = [sum(pair) for pair in zip(m[row], r)]\n",
    "    # now backsolve by substitution\n",
    "    ans = []\n",
    "    m.reverse() # makes it easier to backsolve\n",
    "    for sol in range(len(m)):\n",
    "            if sol == 0:\n",
    "                ans.append(m[sol][-1] / m[sol][-2])\n",
    "            else:\n",
    "                inner = 0\n",
    "                # substitute in all known coefficients\n",
    "                for x in range(sol):\n",
    "                    inner += (ans[x]*m[sol][-2-x])\n",
    "                # the equation is now reduced to ax + b = c form\n",
    "                # solve with (c - b) / a\n",
    "                ans.append((m[sol][-1]-inner)/m[sol][-sol-2])\n",
    "    ans.reverse()\n",
    "    return ans"
   ]
  },
  {
   "cell_type": "markdown",
   "metadata": {},
   "source": [
    "## plot initial profile "
   ]
  },
  {
   "cell_type": "code",
   "execution_count": 12,
   "metadata": {},
   "outputs": [
    {
     "data": {
      "image/png": "[encoded data removed]",
      "text/plain": [
       "<Figure size 432x288 with 1 Axes>"
      ]
     },
     "metadata": {
      "needs_background": "light"
     },
     "output_type": "display_data"
    }
   ],
   "source": [
    "n=numpy.zeros(Nx+1)\n",
    "p=numpy.zeros(Nx+1)\n",
    "\n",
    "\n",
    "\n",
    "for i in range(0, Nx+1):\n",
    "    \n",
    "    if i <= 50:\n",
    "        p[i]=0;\n",
    "        n[i] = Nd;\n",
    "       \n",
    "    else: \n",
    "         n[i]=0;\n",
    "         p[i] = Na;\n",
    "         \n",
    "plt.plot(np.arange(101),n)\n",
    "plt.plot(np.arange(101),p)\n",
    "plt.show()"
   ]
  },
  {
   "cell_type": "markdown",
   "metadata": {},
   "source": [
    "## Constants for calculation of intrinsic carrier conc.\n",
    "\n"
   ]
  },
  {
   "cell_type": "code",
   "execution_count": 10,
   "metadata": {},
   "outputs": [],
   "source": [
    "pi=3.14\n",
    "K=8.617*10**(-5)                 #Boltmann constant in eV/K\n",
    "h=4.13*10**(-15)                 #Planck constant in eV/s\n",
    "m_e=1.1*9.1*10**(-31)            #Effective mass of electron in Kg\n",
    "m_p=0.59*9.1**(-31)              #Effective mass of holes in Kg\n",
    "eg=1.1                           #Bandgap of intrinsic Silicon\n",
    "Temp_=298                        #Room temperature in Kelvinn\n",
    "q=1.6*10**-19\n",
    "epsilon0 =  8.85418782e-12       #F/m\n",
    "\n",
    "n_i=((2*pi*K*Temp_/(h**2))**1.5)*((m_e*m_p)**(3/4))*math.exp(-eg/(2*K*Temp_))\n",
    "\n",
    "e0=8.854*10**(-12) \n",
    "L=2                              #length of device in um\n",
    "Nd=1*10**16                      #donor concentration at x=0\n",
    "Na=5*10**15                      #acceptor concentration at x=1um to x=2um\n",
    "Nx=100                           #number of mesh point in space\n",
    "C=Nd-Na\n",
    "\n"
   ]
  },
  {
   "cell_type": "markdown",
   "metadata": {},
   "source": [
    "## initial conditions"
   ]
  },
  {
   "cell_type": "code",
   "execution_count": null,
   "metadata": {},
   "outputs": [],
   "source": [
    "\n",
    "nint=C/2 + math.sqrt((C**2)/2+(ni**2))\n",
    "pint=-C/2 + math.sqrt((C**2)/2+(ni**2))\n",
    "phi_int=-(Kb*Temp/q)*math.log(Nd/ni)                        ##phi=-KT/q*ln(Nd/ni) it gives Ef-Efi\n",
    "phi_fin= (Kb*Temp/q)*math.log(Na/ni)                        ##phi=KT/q*ln(Na/ni) it gives Efi-Ef\n",
    "lamb2=(0.26*11.68*8.85*10**-18)/((100**2)*(1.6*10**-19)*C)  ##e0 is Farad/um\n",
    "x = numpy.linspace(0, L, Nx+1)                              # mesh points in space \n",
    "Vt = (Kb*Temp)/q\n"
   ]
  },
  {
   "cell_type": "markdown",
   "metadata": {},
   "source": [
    "# main code here "
   ]
  },
  {
   "cell_type": "code",
   "execution_count": null,
   "metadata": {},
   "outputs": [],
   "source": [
    "for k in range(100):\n",
    "    for i in range(100):\n",
    "        \n",
    "        # matrix generation here \n",
    "        # calculation using gaussian elimination \n",
    "          \n",
    "      "
   ]
  },
  {
   "cell_type": "code",
   "execution_count": null,
   "metadata": {},
   "outputs": [],
   "source": []
  }
 ],
 "metadata": {
  "kernelspec": {
   "display_name": "Python 3",
   "language": "python",
   "name": "python3"
  },
  "language_info": {
   "codemirror_mode": {
    "name": "ipython",
    "version": 3
   },
   "file_extension": ".py",
   "mimetype": "text/x-python",
   "name": "python",
   "nbconvert_exporter": "python",
   "pygments_lexer": "ipython3",
   "version": "3.7.3"
  }
 },
 "nbformat": 4,
 "nbformat_minor": 2
}
